{
  "nbformat": 4,
  "nbformat_minor": 0,
  "metadata": {
    "colab": {
      "provenance": [],
      "mount_file_id": "1WF1ET7vNFX_Cl5oPak0rKVilwT45_wQV",
      "authorship_tag": "ABX9TyNiyASZ6VrAMX5VEU4eZ6vj",
      "include_colab_link": true
    },
    "kernelspec": {
      "name": "python3",
      "display_name": "Python 3"
    },
    "language_info": {
      "name": "python"
    }
  },
  "cells": [
    {
      "cell_type": "markdown",
      "metadata": {
        "id": "view-in-github",
        "colab_type": "text"
      },
      "source": [
        "<a href=\"https://colab.research.google.com/github/Bluseass/VKtest/blob/main/VK%D1%81%D1%82%D0%B0%D0%B6%D0%B8%D1%80%D0%BE%D0%B2%D0%BA%D0%B0.ipynb\" target=\"_parent\"><img src=\"https://colab.research.google.com/assets/colab-badge.svg\" alt=\"Open In Colab\"/></a>"
      ]
    },
    {
      "cell_type": "code",
      "execution_count": 5,
      "metadata": {
        "id": "9v7jvqzoOSyD"
      },
      "outputs": [],
      "source": [
        "import pandas as pd\n",
        "import numpy as np"
      ]
    },
    {
      "cell_type": "code",
      "source": [
        "df = pd.read_csv('/content/drive/MyDrive/VK/train_spam.csv')"
      ],
      "metadata": {
        "id": "xICFPbZXPDCS"
      },
      "execution_count": 6,
      "outputs": []
    },
    {
      "cell_type": "markdown",
      "source": [
        "#Аналитика данных и графики"
      ],
      "metadata": {
        "id": "CGR6AixZQrsH"
      }
    },
    {
      "cell_type": "code",
      "source": [
        "import seaborn as sns\n",
        "import matplotlib.pyplot as plt"
      ],
      "metadata": {
        "id": "kSmibOQGPDEz"
      },
      "execution_count": 3,
      "outputs": []
    },
    {
      "cell_type": "code",
      "source": [
        "#посмотрим на данные (сразу видно что нет заглавных букв/грамматики)\n",
        "df.head()"
      ],
      "metadata": {
        "colab": {
          "base_uri": "https://localhost:8080/",
          "height": 206
        },
        "id": "80aJTALAQpTX",
        "outputId": "ff7ec93c-1852-482e-de31-1571ebf86a97"
      },
      "execution_count": 4,
      "outputs": [
        {
          "output_type": "execute_result",
          "data": {
            "text/plain": [
              "  text_type                                               text\n",
              "0       ham  make sure alex knows his birthday is over in f...\n",
              "1       ham  a resume for john lavorato thanks vince i will...\n",
              "2      spam  plzz visit my website moviesgodml to get all m...\n",
              "3      spam  urgent your mobile number has been awarded wit...\n",
              "4       ham  overview of hr associates analyst project per ..."
            ],
            "text/html": [
              "\n",
              "  <div id=\"df-25a2f5f0-927d-4b25-82af-e91ed449b5ad\" class=\"colab-df-container\">\n",
              "    <div>\n",
              "<style scoped>\n",
              "    .dataframe tbody tr th:only-of-type {\n",
              "        vertical-align: middle;\n",
              "    }\n",
              "\n",
              "    .dataframe tbody tr th {\n",
              "        vertical-align: top;\n",
              "    }\n",
              "\n",
              "    .dataframe thead th {\n",
              "        text-align: right;\n",
              "    }\n",
              "</style>\n",
              "<table border=\"1\" class=\"dataframe\">\n",
              "  <thead>\n",
              "    <tr style=\"text-align: right;\">\n",
              "      <th></th>\n",
              "      <th>text_type</th>\n",
              "      <th>text</th>\n",
              "    </tr>\n",
              "  </thead>\n",
              "  <tbody>\n",
              "    <tr>\n",
              "      <th>0</th>\n",
              "      <td>ham</td>\n",
              "      <td>make sure alex knows his birthday is over in f...</td>\n",
              "    </tr>\n",
              "    <tr>\n",
              "      <th>1</th>\n",
              "      <td>ham</td>\n",
              "      <td>a resume for john lavorato thanks vince i will...</td>\n",
              "    </tr>\n",
              "    <tr>\n",
              "      <th>2</th>\n",
              "      <td>spam</td>\n",
              "      <td>plzz visit my website moviesgodml to get all m...</td>\n",
              "    </tr>\n",
              "    <tr>\n",
              "      <th>3</th>\n",
              "      <td>spam</td>\n",
              "      <td>urgent your mobile number has been awarded wit...</td>\n",
              "    </tr>\n",
              "    <tr>\n",
              "      <th>4</th>\n",
              "      <td>ham</td>\n",
              "      <td>overview of hr associates analyst project per ...</td>\n",
              "    </tr>\n",
              "  </tbody>\n",
              "</table>\n",
              "</div>\n",
              "    <div class=\"colab-df-buttons\">\n",
              "\n",
              "  <div class=\"colab-df-container\">\n",
              "    <button class=\"colab-df-convert\" onclick=\"convertToInteractive('df-25a2f5f0-927d-4b25-82af-e91ed449b5ad')\"\n",
              "            title=\"Convert this dataframe to an interactive table.\"\n",
              "            style=\"display:none;\">\n",
              "\n",
              "  <svg xmlns=\"http://www.w3.org/2000/svg\" height=\"24px\" viewBox=\"0 -960 960 960\">\n",
              "    <path d=\"M120-120v-720h720v720H120Zm60-500h600v-160H180v160Zm220 220h160v-160H400v160Zm0 220h160v-160H400v160ZM180-400h160v-160H180v160Zm440 0h160v-160H620v160ZM180-180h160v-160H180v160Zm440 0h160v-160H620v160Z\"/>\n",
              "  </svg>\n",
              "    </button>\n",
              "\n",
              "  <style>\n",
              "    .colab-df-container {\n",
              "      display:flex;\n",
              "      gap: 12px;\n",
              "    }\n",
              "\n",
              "    .colab-df-convert {\n",
              "      background-color: #E8F0FE;\n",
              "      border: none;\n",
              "      border-radius: 50%;\n",
              "      cursor: pointer;\n",
              "      display: none;\n",
              "      fill: #1967D2;\n",
              "      height: 32px;\n",
              "      padding: 0 0 0 0;\n",
              "      width: 32px;\n",
              "    }\n",
              "\n",
              "    .colab-df-convert:hover {\n",
              "      background-color: #E2EBFA;\n",
              "      box-shadow: 0px 1px 2px rgba(60, 64, 67, 0.3), 0px 1px 3px 1px rgba(60, 64, 67, 0.15);\n",
              "      fill: #174EA6;\n",
              "    }\n",
              "\n",
              "    .colab-df-buttons div {\n",
              "      margin-bottom: 4px;\n",
              "    }\n",
              "\n",
              "    [theme=dark] .colab-df-convert {\n",
              "      background-color: #3B4455;\n",
              "      fill: #D2E3FC;\n",
              "    }\n",
              "\n",
              "    [theme=dark] .colab-df-convert:hover {\n",
              "      background-color: #434B5C;\n",
              "      box-shadow: 0px 1px 3px 1px rgba(0, 0, 0, 0.15);\n",
              "      filter: drop-shadow(0px 1px 2px rgba(0, 0, 0, 0.3));\n",
              "      fill: #FFFFFF;\n",
              "    }\n",
              "  </style>\n",
              "\n",
              "    <script>\n",
              "      const buttonEl =\n",
              "        document.querySelector('#df-25a2f5f0-927d-4b25-82af-e91ed449b5ad button.colab-df-convert');\n",
              "      buttonEl.style.display =\n",
              "        google.colab.kernel.accessAllowed ? 'block' : 'none';\n",
              "\n",
              "      async function convertToInteractive(key) {\n",
              "        const element = document.querySelector('#df-25a2f5f0-927d-4b25-82af-e91ed449b5ad');\n",
              "        const dataTable =\n",
              "          await google.colab.kernel.invokeFunction('convertToInteractive',\n",
              "                                                    [key], {});\n",
              "        if (!dataTable) return;\n",
              "\n",
              "        const docLinkHtml = 'Like what you see? Visit the ' +\n",
              "          '<a target=\"_blank\" href=https://colab.research.google.com/notebooks/data_table.ipynb>data table notebook</a>'\n",
              "          + ' to learn more about interactive tables.';\n",
              "        element.innerHTML = '';\n",
              "        dataTable['output_type'] = 'display_data';\n",
              "        await google.colab.output.renderOutput(dataTable, element);\n",
              "        const docLink = document.createElement('div');\n",
              "        docLink.innerHTML = docLinkHtml;\n",
              "        element.appendChild(docLink);\n",
              "      }\n",
              "    </script>\n",
              "  </div>\n",
              "\n",
              "\n",
              "<div id=\"df-91151fb3-fc24-4f68-a894-25845dc7ed3c\">\n",
              "  <button class=\"colab-df-quickchart\" onclick=\"quickchart('df-91151fb3-fc24-4f68-a894-25845dc7ed3c')\"\n",
              "            title=\"Suggest charts\"\n",
              "            style=\"display:none;\">\n",
              "\n",
              "<svg xmlns=\"http://www.w3.org/2000/svg\" height=\"24px\"viewBox=\"0 0 24 24\"\n",
              "     width=\"24px\">\n",
              "    <g>\n",
              "        <path d=\"M19 3H5c-1.1 0-2 .9-2 2v14c0 1.1.9 2 2 2h14c1.1 0 2-.9 2-2V5c0-1.1-.9-2-2-2zM9 17H7v-7h2v7zm4 0h-2V7h2v10zm4 0h-2v-4h2v4z\"/>\n",
              "    </g>\n",
              "</svg>\n",
              "  </button>\n",
              "\n",
              "<style>\n",
              "  .colab-df-quickchart {\n",
              "      --bg-color: #E8F0FE;\n",
              "      --fill-color: #1967D2;\n",
              "      --hover-bg-color: #E2EBFA;\n",
              "      --hover-fill-color: #174EA6;\n",
              "      --disabled-fill-color: #AAA;\n",
              "      --disabled-bg-color: #DDD;\n",
              "  }\n",
              "\n",
              "  [theme=dark] .colab-df-quickchart {\n",
              "      --bg-color: #3B4455;\n",
              "      --fill-color: #D2E3FC;\n",
              "      --hover-bg-color: #434B5C;\n",
              "      --hover-fill-color: #FFFFFF;\n",
              "      --disabled-bg-color: #3B4455;\n",
              "      --disabled-fill-color: #666;\n",
              "  }\n",
              "\n",
              "  .colab-df-quickchart {\n",
              "    background-color: var(--bg-color);\n",
              "    border: none;\n",
              "    border-radius: 50%;\n",
              "    cursor: pointer;\n",
              "    display: none;\n",
              "    fill: var(--fill-color);\n",
              "    height: 32px;\n",
              "    padding: 0;\n",
              "    width: 32px;\n",
              "  }\n",
              "\n",
              "  .colab-df-quickchart:hover {\n",
              "    background-color: var(--hover-bg-color);\n",
              "    box-shadow: 0 1px 2px rgba(60, 64, 67, 0.3), 0 1px 3px 1px rgba(60, 64, 67, 0.15);\n",
              "    fill: var(--button-hover-fill-color);\n",
              "  }\n",
              "\n",
              "  .colab-df-quickchart-complete:disabled,\n",
              "  .colab-df-quickchart-complete:disabled:hover {\n",
              "    background-color: var(--disabled-bg-color);\n",
              "    fill: var(--disabled-fill-color);\n",
              "    box-shadow: none;\n",
              "  }\n",
              "\n",
              "  .colab-df-spinner {\n",
              "    border: 2px solid var(--fill-color);\n",
              "    border-color: transparent;\n",
              "    border-bottom-color: var(--fill-color);\n",
              "    animation:\n",
              "      spin 1s steps(1) infinite;\n",
              "  }\n",
              "\n",
              "  @keyframes spin {\n",
              "    0% {\n",
              "      border-color: transparent;\n",
              "      border-bottom-color: var(--fill-color);\n",
              "      border-left-color: var(--fill-color);\n",
              "    }\n",
              "    20% {\n",
              "      border-color: transparent;\n",
              "      border-left-color: var(--fill-color);\n",
              "      border-top-color: var(--fill-color);\n",
              "    }\n",
              "    30% {\n",
              "      border-color: transparent;\n",
              "      border-left-color: var(--fill-color);\n",
              "      border-top-color: var(--fill-color);\n",
              "      border-right-color: var(--fill-color);\n",
              "    }\n",
              "    40% {\n",
              "      border-color: transparent;\n",
              "      border-right-color: var(--fill-color);\n",
              "      border-top-color: var(--fill-color);\n",
              "    }\n",
              "    60% {\n",
              "      border-color: transparent;\n",
              "      border-right-color: var(--fill-color);\n",
              "    }\n",
              "    80% {\n",
              "      border-color: transparent;\n",
              "      border-right-color: var(--fill-color);\n",
              "      border-bottom-color: var(--fill-color);\n",
              "    }\n",
              "    90% {\n",
              "      border-color: transparent;\n",
              "      border-bottom-color: var(--fill-color);\n",
              "    }\n",
              "  }\n",
              "</style>\n",
              "\n",
              "  <script>\n",
              "    async function quickchart(key) {\n",
              "      const quickchartButtonEl =\n",
              "        document.querySelector('#' + key + ' button');\n",
              "      quickchartButtonEl.disabled = true;  // To prevent multiple clicks.\n",
              "      quickchartButtonEl.classList.add('colab-df-spinner');\n",
              "      try {\n",
              "        const charts = await google.colab.kernel.invokeFunction(\n",
              "            'suggestCharts', [key], {});\n",
              "      } catch (error) {\n",
              "        console.error('Error during call to suggestCharts:', error);\n",
              "      }\n",
              "      quickchartButtonEl.classList.remove('colab-df-spinner');\n",
              "      quickchartButtonEl.classList.add('colab-df-quickchart-complete');\n",
              "    }\n",
              "    (() => {\n",
              "      let quickchartButtonEl =\n",
              "        document.querySelector('#df-91151fb3-fc24-4f68-a894-25845dc7ed3c button');\n",
              "      quickchartButtonEl.style.display =\n",
              "        google.colab.kernel.accessAllowed ? 'block' : 'none';\n",
              "    })();\n",
              "  </script>\n",
              "</div>\n",
              "    </div>\n",
              "  </div>\n"
            ],
            "application/vnd.google.colaboratory.intrinsic+json": {
              "type": "dataframe",
              "variable_name": "df",
              "summary": "{\n  \"name\": \"df\",\n  \"rows\": 16278,\n  \"fields\": [\n    {\n      \"column\": \"text_type\",\n      \"properties\": {\n        \"dtype\": \"category\",\n        \"num_unique_values\": 2,\n        \"samples\": [\n          \"spam\",\n          \"ham\"\n        ],\n        \"semantic_type\": \"\",\n        \"description\": \"\"\n      }\n    },\n    {\n      \"column\": \"text\",\n      \"properties\": {\n        \"dtype\": \"string\",\n        \"num_unique_values\": 16267,\n        \"samples\": [\n          \"enron opportunities thanks vince we will follow up with this lsu graduate hope you are doing well regards lynn dunphy vince j kaminski 02 15 2000 08 53 am to lynn dunphy hou ect ect cc vince j kaminski hou ect ect subject enron opportunities lynn i am forwarding you the resume of a very bright and motivated young man who attended a lecture i gave recently at lsu i think we should consider him for an analyst position vinceforwarded by vince j kaminski hou ect on 02 15 2000 08 52 am richard c iles on 09 14 2000 11 14 56 am please respond to richard c iles to cc subject enron opportunities dr kaminski here is my resume and cover letter thanks richard iles enron cover and\",\n          \"biliana s resume geynille i understand you are in charge of recruiting at the uofh i am forwarding to you the resume of one of the students of the university of houston she is involved with the international organization called aiesec and i was most impressed by her organizational skills and professional attitude i used to work as a volunteer for this organization many years ago and i am still helping their local chapter as far as i know she signed up for an interview with enron vince kaminskiforwarded by vince j kaminski hou ect on 09 29 2000 02 13 pm biliana pehlivanova on 09 28 2000 06 02 20 pm to vkamins enron com cc subject biliana s resume mr kaminski thank you for referring me to your recru\"\n        ],\n        \"semantic_type\": \"\",\n        \"description\": \"\"\n      }\n    }\n  ]\n}"
            }
          },
          "metadata": {},
          "execution_count": 4
        }
      ]
    },
    {
      "cell_type": "code",
      "source": [
        "#посмотрим на размер датасета (16278, 2)\n",
        "print(df.shape)"
      ],
      "metadata": {
        "colab": {
          "base_uri": "https://localhost:8080/"
        },
        "id": "PCwcE5hoQpVh",
        "outputId": "c79113ba-7613-4a78-fb73-ac4ea21cc86e"
      },
      "execution_count": 5,
      "outputs": [
        {
          "output_type": "stream",
          "name": "stdout",
          "text": [
            "(16278, 2)\n"
          ]
        }
      ]
    },
    {
      "cell_type": "code",
      "source": [
        "#проверю пропуски (их нет - это хорошо не нужно заполнять ничего)\n",
        "print(df.isnull().sum())"
      ],
      "metadata": {
        "colab": {
          "base_uri": "https://localhost:8080/"
        },
        "id": "kZyv0cmOQpXt",
        "outputId": "0dc83ee6-f6a7-4286-fb20-7f4ce2f4a710"
      },
      "execution_count": 6,
      "outputs": [
        {
          "output_type": "stream",
          "name": "stdout",
          "text": [
            "text_type    0\n",
            "text         0\n",
            "dtype: int64\n"
          ]
        }
      ]
    },
    {
      "cell_type": "code",
      "source": [
        "#подсчитаю кол-во классов\n",
        "spam_count = df['text_type'].value_counts()\n",
        "print(spam_count)\n",
        "#сделаю график\n",
        "plt.figure(figsize=(6, 6))\n",
        "sns.countplot(data=df, x='text_type')\n",
        "plt.xlabel('спам')\n",
        "plt.ylabel('кол-во')\n",
        "plt.show()"
      ],
      "metadata": {
        "colab": {
          "base_uri": "https://localhost:8080/",
          "height": 615
        },
        "id": "qeMI_KawQ2DB",
        "outputId": "b8e6fc8c-f676-4abe-85ca-fa12df45c707"
      },
      "execution_count": 7,
      "outputs": [
        {
          "output_type": "stream",
          "name": "stdout",
          "text": [
            "text_type\n",
            "ham     11469\n",
            "spam     4809\n",
            "Name: count, dtype: int64\n"
          ]
        },
        {
          "output_type": "display_data",
          "data": {
            "text/plain": [
              "<Figure size 600x600 with 1 Axes>"
            ],
            "image/png": "[encoded data removed]"
          },
          "metadata": {}
        }
      ]
    },
    {
      "cell_type": "markdown",
      "source": [
        "Учитывая дисбаланс классов, при разработке модели для определения спама необходимо уделить особое внимание обработке этого дисбаланса. Это может включать в себя использование методов взвешивания классов, аугментации данных или выбора подходящих метрик оценки качества модели, способных учитывать дисбаланс."
      ],
      "metadata": {
        "id": "WSultSF2TDHc"
      }
    },
    {
      "cell_type": "code",
      "source": [
        "# Вычисляем длину каждого сообщения\n",
        "df['length'] = df['text'].apply(len)\n",
        "\n",
        "# Построим гистограмму\n",
        "plt.figure(figsize=(10, 6))\n",
        "sns.histplot(data=df, x='length', hue='text_type', bins=30, kde=True)\n",
        "plt.xlabel('длина сообщения')\n",
        "plt.ylabel('кол-во таких сообщений')\n",
        "plt.show()"
      ],
      "metadata": {
        "colab": {
          "base_uri": "https://localhost:8080/",
          "height": 542
        },
        "id": "phPVK6siQ2FR",
        "outputId": "fd31deed-faa1-4c8b-e737-2ea6f0d821cd"
      },
      "execution_count": 8,
      "outputs": [
        {
          "output_type": "display_data",
          "data": {
            "text/plain": [
              "<Figure size 1000x600 with 1 Axes>"
            ],
            "image/png": "[encoded data removed]"
          },
          "metadata": {}
        }
      ]
    },
    {
      "cell_type": "markdown",
      "source": [
        "В основном ham сообщения или очень короткие или очень длинные, а вот spam сосредоточен нп 50-300 символах"
      ],
      "metadata": {
        "id": "eeWInAkPU0in"
      }
    },
    {
      "cell_type": "markdown",
      "source": [
        "#Предобработка данных"
      ],
      "metadata": {
        "id": "-Lz9JFI-VoH6"
      }
    },
    {
      "cell_type": "code",
      "source": [
        "import string\n",
        "import re\n",
        "import nltk\n",
        "from nltk.corpus import stopwords\n",
        "from nltk.stem import PorterStemmer\n",
        "\n",
        "\n",
        "nltk.download('stopwords')\n",
        "ps = PorterStemmer()\n",
        "stopwords = set(stopwords.words('english'))\n",
        "\n",
        "def clean_text(text):\n",
        "    text = ''.join([char for char in text if char not in string.punctuation])\n",
        "    tokens = re.split('\\W+', text)\n",
        "    text = [ps.stem(word) for word in tokens if word not in stopwords]\n",
        "    return text"
      ],
      "metadata": {
        "colab": {
          "base_uri": "https://localhost:8080/"
        },
        "id": "lJgKragAh8YK",
        "outputId": "e76de8a6-7f51-4343-9070-aa87a35a378f"
      },
      "execution_count": 9,
      "outputs": [
        {
          "output_type": "stream",
          "name": "stderr",
          "text": [
            "[nltk_data] Downloading package stopwords to /root/nltk_data...\n",
            "[nltk_data]   Package stopwords is already up-to-date!\n"
          ]
        }
      ]
    },
    {
      "cell_type": "code",
      "source": [
        "from sklearn.feature_extraction.text import TfidfVectorizer\n",
        "tfidf_vect = TfidfVectorizer(analyzer=clean_textTFIDF)\n",
        "X_tfidf = tfidf_vect.fit_transform(df['text'])\n",
        "X_features = pd.concat([df['length'], pd.DataFrame(X_tfidf.toarray())], axis=1)"
      ],
      "metadata": {
        "id": "cnOejwVdh8aa"
      },
      "execution_count": 10,
      "outputs": []
    },
    {
      "cell_type": "markdown",
      "source": [
        "#Модели"
      ],
      "metadata": {
        "id": "adldWBviovq6"
      }
    },
    {
      "cell_type": "markdown",
      "source": [
        "добавление фичи \"длинна сообщения\", лишь ухудшает результаты."
      ],
      "metadata": {
        "id": "wYhRq3Ltr08A"
      }
    },
    {
      "cell_type": "markdown",
      "source": [
        " **Мультиномиальный наивный Байес**"
      ],
      "metadata": {
        "id": "rW05tywjqE5s"
      }
    },
    {
      "cell_type": "code",
      "source": [
        "from sklearn.model_selection import train_test_split\n",
        "from sklearn.feature_extraction.text import CountVectorizer\n",
        "from sklearn.naive_bayes import MultinomialNB\n",
        "from sklearn.metrics import aroc_auc_score\n",
        "\n",
        "X_train, X_test, y_train, y_test = train_test_split(df['text'], df['text_type'], test_size=0.2, random_state=42)\n",
        "vectorizer = CountVectorizer()\n",
        "X_train_counts = vectorizer.fit_transform(X_train)\n",
        "\n",
        "clf = MultinomialNB()\n",
        "clf.fit(X_train_counts, y_train)\n",
        "\n",
        "X_test_counts = vectorizer.transform(X_test)\n",
        "\n",
        "#получение вероятностей\n",
        "y_pred_proba = clf.predict_proba(X_test_counts)\n",
        "\n",
        "#кодирование меток\n",
        "y_test_binary = y_test.apply(lambda x: 1 if x == 'spam' else 0)\n",
        "\n",
        "#ROCAUC\n",
        "roc_auc = roc_auc_score(y_test_binary, y_pred_proba[:, 1])\n",
        "print(\"ROCAUC: \", roc_auc)\n"
      ],
      "metadata": {
        "colab": {
          "base_uri": "https://localhost:8080/"
        },
        "id": "YidOvmLIqiDt",
        "outputId": "162609a7-124a-48e6-cebc-58ebdb13bbee"
      },
      "execution_count": 15,
      "outputs": [
        {
          "output_type": "stream",
          "name": "stdout",
          "text": [
            "ROC AUC Score:  0.9637835895001924\n"
          ]
        }
      ]
    },
    {
      "cell_type": "markdown",
      "source": [
        "**регрессия + bag of words // если использовать функцию clean text то точно будет ROC AUC Score: 0.9768, что ниже чем без.**"
      ],
      "metadata": {
        "id": "r5HOvnBdpsRi"
      }
    },
    {
      "cell_type": "code",
      "source": [
        "from sklearn.feature_extraction.text import TfidfVectorizer\n",
        "from sklearn.linear_model import LogisticRegression\n",
        "\n",
        "data = pd.read_csv(\"/content/drive/MyDrive/VK/train_spam.csv\")\n",
        "X_train, X_test, y_train, y_test = train_test_split(data['text'], data['text_type'], test_size=0.2, random_state=42)\n",
        "\n",
        "#TFIDF\n",
        "tfidf_vect = TfidfVectorizer()\n",
        "X_train_tfidf = tfidf_vect.fit_transform(X_train)\n",
        "X_test_tfidf = tfidf_vect.transform(X_test)\n",
        "\n",
        "#обучение логистической регрессии\n",
        "model = LogisticRegression()\n",
        "model.fit(X_train_tfidf, y_train)\n",
        "\n",
        "#получение вероятностей\n",
        "y_pred_proba = model.predict_proba(X_test_tfidf)\n",
        "\n",
        "#ROCAUC\n",
        "roc_auc = roc_auc_score(y_test, y_pred_proba[:, 1])\n",
        "print(\"ROCAUC:\", roc_auc)"
      ],
      "metadata": {
        "colab": {
          "base_uri": "https://localhost:8080/"
        },
        "id": "sUPkpdsLo9ej",
        "outputId": "ff234191-d1f9-4aec-d194-f8b5ed34fa8a"
      },
      "execution_count": 18,
      "outputs": [
        {
          "output_type": "stream",
          "name": "stdout",
          "text": [
            "ROC AUC Score: 0.9788047748181564\n"
          ]
        }
      ]
    },
    {
      "cell_type": "markdown",
      "source": [
        "**Bert** ну времени обучать (дообучать) в данный момент нету, но, вероятно, там будут очень хорошие результаты."
      ],
      "metadata": {
        "id": "QU2JAj0TsNE_"
      }
    },
    {
      "cell_type": "code",
      "source": [
        "import pandas as pd\n",
        "import torch\n",
        "from sklearn.model_selection import train_test_split\n",
        "from transformers import DistilBertTokenizer, DistilBertForSequenceClassification, AdamW\n",
        "from sklearn.metrics import roc_auc_score\n",
        "import string\n",
        "import re\n",
        "from nltk.corpus import stopwords\n",
        "from nltk.stem import PorterStemmer"
      ],
      "metadata": {
        "id": "J9PEX6H1o9hN"
      },
      "execution_count": 22,
      "outputs": []
    },
    {
      "cell_type": "code",
      "source": [
        "data = pd.read_csv(\"/content/drive/MyDrive/VK/train_spam.csv\")\n",
        "def clean_text(text):\n",
        "    text = ''.join([char for char in text if char not in string.punctuation])\n",
        "    tokens = re.split('\\W+', text)\n",
        "    ps = PorterStemmer()\n",
        "    text = [ps.stem(word) for word in tokens if word not in stopwords.words('english')]\n",
        "    return ' '.join(text)\n",
        "\n",
        "data['text'] = data['text'].apply(clean_text)"
      ],
      "metadata": {
        "id": "PxbG9MstvTAs"
      },
      "execution_count": 23,
      "outputs": []
    },
    {
      "cell_type": "code",
      "source": [
        "#разделение данных\n",
        "X_train, X_test, y_train, y_test = train_test_split(data['text'], data['text_type'], test_size=0.2, random_state=42)\n",
        "\n",
        "#преобразование меток числовой формат\n",
        "label_map = {'spam': 1, 'ham': 0}\n",
        "train_labels = torch.tensor([label_map[label] for label in y_train])\n",
        "test_labels = torch.tensor([label_map[label] for label in y_test])"
      ],
      "metadata": {
        "id": "K5gKjzoAvTDA"
      },
      "execution_count": 40,
      "outputs": []
    },
    {
      "cell_type": "code",
      "source": [
        "#загрузка обученного токенизатора DistilBERT\n",
        "tokenizer = DistilBertTokenizer.from_pretrained('distilbert-base-uncased')"
      ],
      "metadata": {
        "id": "3l0KRa5bvTFU"
      },
      "execution_count": 26,
      "outputs": []
    },
    {
      "cell_type": "code",
      "source": [
        "#токенизация текста\n",
        "train_encodings = tokenizer(list(X_train), truncation=True, padding=True, max_length=128)\n",
        "test_encodings = tokenizer(list(X_test), truncation=True, padding=True, max_length=128)"
      ],
      "metadata": {
        "id": "_WnicR9-vTHz"
      },
      "execution_count": 32,
      "outputs": []
    },
    {
      "cell_type": "code",
      "source": [
        "#создание DataLoader\n",
        "from torch.utils.data import DataLoader, TensorDataset\n",
        "train_dataset = TensorDataset(torch.tensor(train_encodings['input_ids']),\n",
        "                              torch.tensor(train_encodings['attention_mask']),\n",
        "                              train_labels)\n",
        "test_dataset = TensorDataset(torch.tensor(test_encodings['input_ids']),\n",
        "                             torch.tensor(test_encodings['attention_mask']),\n",
        "                             test_labels)\n",
        "\n",
        "train_loader = DataLoader(train_dataset, batch_size=16, shuffle=True)\n",
        "test_loader = DataLoader(test_dataset, batch_size=16, shuffle=False)"
      ],
      "metadata": {
        "id": "HhfRdRlsvTJ1"
      },
      "execution_count": 33,
      "outputs": []
    },
    {
      "cell_type": "code",
      "source": [
        "#загрузка обученной модели\n",
        "model = DistilBertForSequenceClassification.from_pretrained('distilbert-base-uncased', num_labels=2)"
      ],
      "metadata": {
        "id": "JJiBmkKUv9MU"
      },
      "execution_count": null,
      "outputs": []
    },
    {
      "cell_type": "code",
      "source": [
        "#оптимизатор\n",
        "optimizer = AdamW(model.parameters(), lr=5e-5)"
      ],
      "metadata": {
        "id": "UXakExqiv9QP"
      },
      "execution_count": null,
      "outputs": []
    },
    {
      "cell_type": "code",
      "source": [
        "from sklearn.metrics import roc_auc_score\n",
        "\n",
        "#обучение\n",
        "model.train()\n",
        "\n",
        "roc_aucs = []\n",
        "epochs = 3\n",
        "\n",
        "for epoch in range(epochs):\n",
        "    progress_bar = tqdm(train_loader, desc=f'Epoch {epoch + 1}/{epochs}', leave=False)\n",
        "    for batch in progress_bar:\n",
        "        optimizer.zero_grad()\n",
        "        input_ids, attention_mask, labels = batch\n",
        "        outputs = model(input_ids=input_ids, attention_mask=attention_mask, labels=labels)\n",
        "        loss = outputs.loss\n",
        "        loss.backward()\n",
        "        optimizer.step()\n",
        "    #оценка\n",
        "    model.eval()\n",
        "    y_true = []\n",
        "    y_pred = []\n",
        "    with torch.no_grad():\n",
        "        for batch in test_loader:\n",
        "            input_ids, attention_mask, labels = batch\n",
        "            outputs = model(input_ids=input_ids, attention_mask=attention_mask)\n",
        "            predicted = torch.argmax(outputs.logits, dim=1)\n",
        "            y_true.extend(labels.cpu().numpy())\n",
        "            y_pred.extend(outputs.logits[:, 1].cpu().numpy())\n",
        "    roc_auc = roc_auc_score(y_true, y_pred)\n",
        "    roc_aucs.append(roc_auc)\n",
        "    print(f\"Epoch {epoch + 1}/{epochs}, ROCAUC: {roc_auc:.4f}\")\n",
        "\n",
        "#график ROCAUC\n",
        "plt.plot(roc_aucs)\n",
        "plt.xlabel('эпохи')\n",
        "plt.ylabel('ROCAUC')\n",
        "plt.show()"
      ],
      "metadata": {
        "id": "i1PawNIpv9S5"
      },
      "execution_count": null,
      "outputs": []
    },
    {
      "cell_type": "markdown",
      "source": [
        "**случайные леса**"
      ],
      "metadata": {
        "id": "DVX3FomQ0eH4"
      }
    },
    {
      "cell_type": "code",
      "source": [
        "from sklearn.ensemble import RandomForestClassifier\n",
        "\n",
        "\n",
        "X_train, X_test, y_train, y_test = train_test_split(df['text'], df['text_type'], test_size=0.2, random_state=42)\n",
        "\n",
        "#преобразование в векторы bag of words\n",
        "vectorizer = CountVectorizer()\n",
        "X_train_counts = vectorizer.fit_transform(X_train)\n",
        "X_test_counts = vectorizer.transform(X_test)\n",
        "\n",
        "#обучение случайного леса\n",
        "rf = RandomForestClassifier(n_estimators=100, random_state=42)\n",
        "rf.fit(X_train_counts, y_train)\n",
        "y_pred_proba_rf = rf.predict_proba(X_test_counts)\n",
        "\n",
        "#ROCAUC\n",
        "roc_auc_rf = roc_auc_score(y_test, y_pred_proba_rf[:, 1])\n",
        "print(\"ROCAUC:\", roc_auc_rf)"
      ],
      "metadata": {
        "colab": {
          "base_uri": "https://localhost:8080/"
        },
        "id": "JzEjCIAQwnJn",
        "outputId": "15bc0ab3-8c4d-4330-87d5-cba3b14cb6b2"
      },
      "execution_count": 41,
      "outputs": [
        {
          "output_type": "stream",
          "name": "stdout",
          "text": [
            "Random Forest ROC AUC Score: 0.9833759190096468\n"
          ]
        }
      ]
    },
    {
      "cell_type": "markdown",
      "source": [
        "**градиентный бустинг**"
      ],
      "metadata": {
        "id": "lbGggZwL1rTd"
      }
    },
    {
      "cell_type": "code",
      "source": [
        "from sklearn.ensemble import GradientBoostingClassifier\n",
        "\n",
        "X_train, X_test, y_train, y_test = train_test_split(df['text'], df['text_type'], test_size=0.2, random_state=42)\n",
        "\n",
        "#преобразование в векторы bag of words\n",
        "vectorizer = CountVectorizer()\n",
        "X_train_counts = vectorizer.fit_transform(X_train)\n",
        "X_test_counts = vectorizer.transform(X_test)\n",
        "\n",
        "#обучение градиентного бустинга\n",
        "gb = GradientBoostingClassifier(n_estimators=100, random_state=42)\n",
        "gb.fit(X_train_counts, y_train)\n",
        "y_pred_proba_gb = gb.predict_proba(X_test_counts)\n",
        "\n",
        "#ROCAUC\n",
        "roc_auc_gb = roc_auc_score(y_test, y_pred_proba_gb[:, 1])\n",
        "print(\"ROCAUC:\", roc_auc_gb)"
      ],
      "metadata": {
        "colab": {
          "base_uri": "https://localhost:8080/"
        },
        "id": "wjBuNbzLwnMH",
        "outputId": "ba81bbac-0076-45bf-a62c-9fb77a4f4a20"
      },
      "execution_count": 42,
      "outputs": [
        {
          "output_type": "stream",
          "name": "stdout",
          "text": [
            "ROCAUC: 0.9477403479507034\n"
          ]
        }
      ]
    },
    {
      "cell_type": "markdown",
      "source": [
        "**cat boost ----- ROCAUC: 0.9783981180894277**"
      ],
      "metadata": {
        "id": "Y9VJzlE_1_Uo"
      }
    },
    {
      "cell_type": "code",
      "source": [
        "!pip install catboost\n",
        "from catboost import CatBoostClassifier\n",
        "\n",
        "#CatBoost\n",
        "catboost_model = CatBoostClassifier(iterations=100, verbose=0, random_state=42)\n",
        "catboost_model.fit(X_train_counts, y_train)\n",
        "y_pred_proba_catboost = catboost_model.predict_proba(X_test_counts)\n",
        "\n",
        "#ROCAUC\n",
        "roc_auc_catboost = roc_auc_score(y_test, y_pred_proba_catboost[:, 1])\n",
        "print(\"ROCAUC:\", roc_auc_catboost)"
      ],
      "metadata": {
        "id": "mN_geZZFv9Vw"
      },
      "execution_count": null,
      "outputs": []
    },
    {
      "cell_type": "markdown",
      "source": [
        "**XGBoost ----- ROCAUC: 0.9760305234466982**"
      ],
      "metadata": {
        "id": "c0D5wNuC2uY8"
      }
    },
    {
      "cell_type": "code",
      "source": [
        "!pip install xgboost\n",
        "from xgboost import XGBClassifier\n",
        "from sklearn.preprocessing import LabelEncoder\n",
        "\n",
        "#преобразование\n",
        "label_encoder = LabelEncoder()\n",
        "y_train_encoded = label_encoder.fit_transform(y_train)\n",
        "y_test_encoded = label_encoder.transform(y_test)\n",
        "\n",
        "#XGBoost\n",
        "xgboost_model = XGBClassifier(n_estimators=100, random_state=42)\n",
        "xgboost_model.fit(X_train_counts, y_train_encoded)\n",
        "y_pred_proba = xgboost_model.predict_proba(X_test_counts)\n",
        "\n",
        "from sklearn.metrics import roc_auc_score\n",
        "\n",
        "#ROCAUC\n",
        "roc_auc_xgboost = roc_auc_score(y_test_encoded, y_pred_proba[:, 1])\n",
        "print(\"ROCAUC:\", roc_auc_xgboost)"
      ],
      "metadata": {
        "colab": {
          "base_uri": "https://localhost:8080/"
        },
        "id": "kTMrdJfX2KLW",
        "outputId": "b9ed4a67-9d57-469d-accd-374e28e463b0"
      },
      "execution_count": 50,
      "outputs": [
        {
          "output_type": "stream",
          "name": "stdout",
          "text": [
            "Requirement already satisfied: xgboost in /usr/local/lib/python3.10/dist-packages (2.0.3)\n",
            "Requirement already satisfied: numpy in /usr/local/lib/python3.10/dist-packages (from xgboost) (1.25.2)\n",
            "Requirement already satisfied: scipy in /usr/local/lib/python3.10/dist-packages (from xgboost) (1.11.4)\n",
            "ROC AUC Score for XGBoost: 0.9760305234466982\n"
          ]
        }
      ]
    },
    {
      "cell_type": "markdown",
      "source": [
        "**SVM (опорные вектора) ---- 0.9788596101164214**"
      ],
      "metadata": {
        "id": "1CJ0U58q46XY"
      }
    },
    {
      "cell_type": "code",
      "source": [
        "from sklearn.svm import SVC\n",
        "from sklearn.metrics import roc_auc_score\n",
        "from sklearn.model_selection import train_test_split\n",
        "from sklearn.feature_extraction.text import CountVectorizer\n",
        "import pandas as pd\n",
        "\n",
        "\n",
        "data = pd.read_csv(\"/content/drive/MyDrive/VK/train_spam.csv\")\n",
        "X_train, X_test, y_train, y_test = train_test_split(data['text'], data['text_type'], test_size=0.2, random_state=42)\n",
        "\n",
        "#векторизация\n",
        "vectorizer = CountVectorizer()\n",
        "X_train_counts = vectorizer.fit_transform(X_train)\n",
        "X_test_counts = vectorizer.transform(X_test)\n",
        "\n",
        "#svm\n",
        "svm_model = SVC(probability=True)\n",
        "svm_model.fit(X_train_counts, y_train)\n",
        "y_pred_proba = svm_model.predict_proba(X_test_counts)\n",
        "\n",
        "#ROCAUC\n",
        "roc_auc_svm = roc_auc_score(y_test, y_pred_proba[:, 1])\n",
        "print(\"ROCAUC:\", roc_auc_svm)"
      ],
      "metadata": {
        "colab": {
          "base_uri": "https://localhost:8080/"
        },
        "id": "A6G4Hye8450t",
        "outputId": "a494bc99-fbd3-4711-8ff4-0363a3f6a3ca"
      },
      "execution_count": 51,
      "outputs": [
        {
          "output_type": "stream",
          "name": "stdout",
          "text": [
            "ROC AUC Score for SVM: 0.9788596101164214\n"
          ]
        }
      ]
    },
    {
      "cell_type": "markdown",
      "source": [
        "#Проверка на Test\n",
        "\n",
        "лучшая модель судя по всему случайные леса (0.983) ну или bert, который не был обучен"
      ],
      "metadata": {
        "id": "fZm8lrmZ6MgM"
      }
    },
    {
      "cell_type": "code",
      "source": [
        "import pandas as pd\n",
        "from sklearn.ensemble import RandomForestClassifier\n",
        "from sklearn.feature_extraction.text import CountVectorizer\n",
        "\n",
        "\n",
        "test_data = pd.read_csv(\"/content/drive/MyDrive/VK/test_spam.csv\")\n",
        "X_test_counts = vectorizer.transform(test_data['text'])\n",
        "y_pred_proba_rf_test = rf.predict_proba(X_test_counts)\n",
        "\n",
        "#создание df для ответов\n",
        "results_df = pd.DataFrame({\n",
        "    'score': y_pred_proba_rf_test[:, 1],\n",
        "    'text': test_data['text']\n",
        "})\n",
        "\n",
        "#сохраняю в csv\n",
        "results_df.to_csv(\"/content/drive/MyDrive/VK/results.csv\", index=False)"
      ],
      "metadata": {
        "id": "4SvytphY6czT"
      },
      "execution_count": 53,
      "outputs": []
    },
    {
      "cell_type": "code",
      "source": [
        "results_df = pd.read_csv(\"/content/drive/MyDrive/VK/results.csv\")\n",
        "binary_scores = [1 if score >= 0.5 else 0 for score in results_df['score']]\n",
        "binary_results_df = pd.DataFrame({\n",
        "    'score': binary_scores,\n",
        "    'text': results_df['text']\n",
        "})\n",
        "binary_results_df.to_csv(\"/content/drive/MyDrive/VK/binar_results.csv\", index=False)"
      ],
      "metadata": {
        "id": "c6_Miqit6c1h"
      },
      "execution_count": 54,
      "outputs": []
    },
    {
      "cell_type": "code",
      "source": [],
      "metadata": {
        "id": "f_aVAiup6c4C"
      },
      "execution_count": null,
      "outputs": []
    }
  ]
}